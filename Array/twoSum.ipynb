{
 "cells": [
  {
   "cell_type": "markdown",
   "metadata": {},
   "source": [
    "Given an array of integers nums and an integer target, return indices of the two numbers such that they add up to target.\n",
    "You may assume that each input would have exactly one solution, and you may not use the same element twice.\n",
    "You can return the answer in any order.\n",
    "\n",
    " \n",
    "\n",
    "Example 1:\n",
    "\n",
    "Input: nums = [2,7,11,15], target = 9\n",
    "Output: [0,1]\n",
    "Explanation: Because nums[0] + nums[1] == 9, we return [0, 1].\n",
    "Example 2:\n",
    "\n",
    "Input: nums = [3,2,4], target = 6\n",
    "Output: [1,2]\n",
    "Example 3:\n",
    "\n",
    "Input: nums = [3,3], target = 6\n",
    "Output: [0,1]\n",
    " \n",
    "\n",
    "Constraints:\n",
    "2 <= nums.length <= 104\n",
    "-109 <= nums[i] <= 109\n",
    "-109 <= target <= 109\n",
    "Only one valid answer exists."
   ]
  },
  {
   "cell_type": "code",
   "execution_count": 3,
   "metadata": {},
   "outputs": [
    {
     "name": "stdout",
     "output_type": "stream",
     "text": [
      "[0, 1]\n",
      "[1, 2]\n"
     ]
    }
   ],
   "source": [
    "arr1 = [2,7,11,15]\n",
    "target1 = 9\n",
    "\n",
    "arr2 = [3,2,4]\n",
    "target2 = 6\n",
    "\n",
    "def two_Sum(arr, target):\n",
    "    \n",
    "    values = dict()\n",
    "    \n",
    "    for i, elem in enumerate(arr):\n",
    "        comp = target - elem\n",
    "        \n",
    "        if comp in values:\n",
    "            return [values[comp], i]\n",
    "        \n",
    "        values[elem] = i\n",
    "        \n",
    "    return []\n",
    "\n",
    "list1 = two_Sum(arr1, target1)\n",
    "print(list1)\n",
    "\n",
    "list2 = two_Sum(arr2, target2)\n",
    "print(list2)"
   ]
  }
 ],
 "metadata": {
  "interpreter": {
   "hash": "e9604d091696bbd673e23a7a8df1eeca48dbca45deeebf6a4938e4832e1182ab"
  },
  "kernelspec": {
   "display_name": "Python 3.9.10 64-bit ('base')",
   "language": "python",
   "name": "python3"
  },
  "language_info": {
   "codemirror_mode": {
    "name": "ipython",
    "version": 3
   },
   "file_extension": ".py",
   "mimetype": "text/x-python",
   "name": "python",
   "nbconvert_exporter": "python",
   "pygments_lexer": "ipython3",
   "version": "3.9.10"
  },
  "orig_nbformat": 4
 },
 "nbformat": 4,
 "nbformat_minor": 2
}
